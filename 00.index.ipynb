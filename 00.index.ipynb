{
 "cells": [
  {
   "cell_type": "markdown",
   "metadata": {
    "id": "d6Ed-dPUY2zt"
   },
   "source": [
    "# The morph.py library was used in the last two courses at UFABC:\n",
    "\n",
    "## Processamento Digital de Imagens - PDI - 2023.1\n",
    "## Visão Computacional e Processamento Imagens - VCPI - 2022.1"
   ]
  },
  {
   "cell_type": "markdown",
   "metadata": {
    "id": "vUDZ4VsySTeJ"
   },
   "source": [
    "# Refs:"
   ]
  },
  {
   "cell_type": "markdown",
   "metadata": {
    "id": "B2y3KytHaZVL"
   },
   "source": [
    "* [livro](https://www.amazon.com.br/Hands-Morphological-Processing-Edward-Dougherty/dp/081944720X) - Dougherty and Lotufo (2003)\n",
    "* https://github.com/robertoalotufo/ia870\n",
    "* https://github.com/robertoalotufo/ia898\n",
    "* https://github.com/robertoalotufo/ia870p3\n",
    "* [ftp://ftp.dca.fee.unicamp.br/pub/cik/morph/morph_doc0.14.pdf](ftp://ftp.dca.fee.unicamp.br/pub/cik/morph/morph_doc0.14.pdf)\n",
    "* https://www.researchgate.net/publication/3922632_Toolbox_of_image_processing_for_numerical_Python\n",
    "* https://pythonhosted.org/pymorph/\n"
   ]
  },
  {
   "cell_type": "code",
   "execution_count": 1,
   "metadata": {
    "executionInfo": {
     "elapsed": 1211,
     "status": "ok",
     "timestamp": 1727433431684,
     "user": {
      "displayName": "Francisco Zampirolli",
      "userId": "00555800858524994547"
     },
     "user_tz": 180
    },
    "id": "sJ-M2t1ZDYDC"
   },
   "outputs": [],
   "source": [
    "import matplotlib.pyplot as plt\n",
    "import numpy as np\n",
    "from PIL import Image\n",
    "import cv2"
   ]
  },
  {
   "cell_type": "code",
   "execution_count": 6,
   "metadata": {
    "id": "8If8Sskp4bUi",
    "pycharm": {
     "is_executing": true
    },
    "colab": {
     "base_uri": "https://localhost:8080/"
    },
    "executionInfo": {
     "status": "ok",
     "timestamp": 1727433505593,
     "user_tz": 180,
     "elapsed": 314,
     "user": {
      "displayName": "Francisco Zampirolli",
      "userId": "00555800858524994547"
     }
    },
    "outputId": "3803fae4-193a-4120-9b38-84b2be532527"
   },
   "outputs": [
    {
     "output_type": "stream",
     "name": "stdout",
     "text": [
      "--2024-09-27 10:38:26--  https://raw.githubusercontent.com/fzampirolli/morph/refs/heads/main/morph.py\n",
      "Resolving raw.githubusercontent.com (raw.githubusercontent.com)... 185.199.109.133, 185.199.111.133, 185.199.108.133, ...\n",
      "Connecting to raw.githubusercontent.com (raw.githubusercontent.com)|185.199.109.133|:443... connected.\n",
      "HTTP request sent, awaiting response... 200 OK\n",
      "Length: 42991 (42K) [text/plain]\n",
      "Saving to: ‘morph.py’\n",
      "\n",
      "\rmorph.py              0%[                    ]       0  --.-KB/s               \rmorph.py            100%[===================>]  41.98K  --.-KB/s    in 0.01s   \n",
      "\n",
      "2024-09-27 10:38:26 (3.54 MB/s) - ‘morph.py’ saved [42991/42991]\n",
      "\n"
     ]
    }
   ],
   "source": [
    "!wget https://raw.githubusercontent.com/fzampirolli/morph/refs/heads/main/morph.py"
   ]
  },
  {
   "cell_type": "code",
   "execution_count": 7,
   "metadata": {
    "id": "WjfVnp2ZDfk_",
    "executionInfo": {
     "status": "ok",
     "timestamp": 1727433511370,
     "user_tz": 180,
     "elapsed": 926,
     "user": {
      "displayName": "Francisco Zampirolli",
      "userId": "00555800858524994547"
     }
    }
   },
   "outputs": [],
   "source": [
    "from morph import *"
   ]
  },
  {
   "cell_type": "code",
   "execution_count": 8,
   "metadata": {
    "executionInfo": {
     "elapsed": 3778,
     "status": "ok",
     "timestamp": 1727433518225,
     "user": {
      "displayName": "Francisco Zampirolli",
      "userId": "00555800858524994547"
     },
     "user_tz": 180
    },
    "id": "saniDsWIQmiG"
   },
   "outputs": [],
   "source": [
    "mm.install(['opencv-python'])"
   ]
  },
  {
   "cell_type": "code",
   "execution_count": 9,
   "metadata": {
    "colab": {
     "base_uri": "https://localhost:8080/"
    },
    "executionInfo": {
     "elapsed": 279,
     "status": "ok",
     "timestamp": 1727433521197,
     "user": {
      "displayName": "Francisco Zampirolli",
      "userId": "00555800858524994547"
     },
     "user_tz": 180
    },
    "id": "sLe8UcyfSbG6",
    "outputId": "533e465b-ea85-4ed4-9792-36a315f2958e"
   },
   "outputs": [
    {
     "output_type": "stream",
     "name": "stdout",
     "text": [
      "4.10.0\n"
     ]
    }
   ],
   "source": [
    "print(cv2.__version__)"
   ]
  },
  {
   "cell_type": "code",
   "execution_count": 10,
   "outputs": [
    {
     "output_type": "stream",
     "name": "stdout",
     "text": [
      "Help on class mm in module morph:\n",
      "\n",
      "class mm(builtins.object)\n",
      " |  A helper class for image processing tasks.\n",
      " |  \n",
      " |  Methods defined here:\n",
      " |  \n",
      " |  __init__(self)\n",
      " |      Initialize self.  See help(type(self)) for accurate signature.\n",
      " |  \n",
      " |  blob(f, op='area', border=1, precision=0.01, show='True')\n",
      " |      This function will be calculate topology of each connect component\n",
      " |      input:\n",
      " |        - f: input image\n",
      " |        - op: 'area', 'perimeter', etc [default='area']\n",
      " |        - border: border of lines [default=1]\n",
      " |        - precision: precision of polygonon [default=0.01]\n",
      " |        - show=True, return image, else, return measure\n",
      " |      output:\n",
      " |        - y: image with op or measure\n",
      " |  \n",
      " |  blobAll(f, border=1, precision=0.01, show='False')\n",
      " |      This function will be calculate topology of each connect component\n",
      " |      input:\n",
      " |        - f: input image\n",
      " |        - border: border of lines [default=1]\n",
      " |        - precision: precision of polygonon [default=0.01]\n",
      " |        - show=False, return measure\n",
      " |      output:\n",
      " |        - y: measures\n",
      " |  \n",
      " |  edgeoff(f, b=array([[1, 1, 1],\n",
      " |         [1, 1, 1],\n",
      " |         [1, 1, 1]], dtype=uint8))\n",
      " |      This function will be remove border componentes\n",
      " |      input:\n",
      " |        - f: input image\n",
      " |        - b: structiring function\n",
      " |      output:\n",
      " |        - y: image\n",
      " |  \n",
      " |  esqueleto(f, b)\n",
      " |      # essa implementação é a do enunciado e\n",
      " |      # RODA na lista3 de 2022.1\n",
      " |      # porém, não calcula corretamento o esqueleto\n",
      " |  \n",
      " |  hmin(f, h, b=array([[1, 1, 1],\n",
      " |         [1, 1, 1],\n",
      " |         [1, 1, 1]], dtype=uint8))\n",
      " |      sup-reconstructs the gray-scale image f\n",
      " |         from the marker created by the addition of the positive integer value h to f\n",
      " |      input:\n",
      " |        - f: input image\n",
      " |        - b: structiring function\n",
      " |      output:\n",
      " |        - y: image\n",
      " |  \n",
      " |  intersec(f1, f2)\n",
      " |  \n",
      " |  skel(f)\n",
      " |      implementação do cv2\n",
      " |      https://docs.opencv.org/4.x/df/d2d/group__ximgproc.html#ga37002c6ca80c978edb6ead5d6b39740c\n",
      " |      técnica de Zhang-Suen: http://rstudio-pubs-static.s3.amazonaws.com/302782_e337cfbc5ad24922bae96ca5977f4da8.html\n",
      " |  \n",
      " |  skelm(f, b=array([[0, 0, 0],\n",
      " |         [0, 0, 0],\n",
      " |         [0, 0, 0]], dtype=uint8))\n",
      " |      versão corrigida em 2/3/2023\n",
      " |      essa implementação NÃO roda na lista3 até 2023.1\n",
      " |  \n",
      " |  verifyBoundBox(object, center, matrix, width, height)\n",
      " |      Função interessante para verificar se conseguiu segmentar corretamente imagens comparando com gabaritos (matriz lide de TXT).\n",
      " |      Ver exemplos de datasets: https://storage.googleapis.com/openimages/web/visualizer/index.html\n",
      " |      Utilizar OIDv4 para baixar exemplos: https://github.com/theAIGuysCode/OIDv4_ToolKit\n",
      " |      \n",
      " |      A matriz contem um boundbox normalizado por linha do arquivo TXT para cada objeto. Para ler essa matriz:\n",
      " |          \n",
      " |          import pandas as pd\n",
      " |          df = pd.read_csv(\"00001.txt\", sep=' ', header=None)\n",
      " |          matrix = df.to_numpy()\n",
      " |          \n",
      " |          As colunas têm objetos, p1=[x1,y1] e p2=[x2,y2] (valores nomalizados entre 0 e 1 - são os dois pontos extremos para definir o retângulo)\n",
      " |      input:\n",
      " |        - object: é um dos índices dos objetos segmentados - valores entre 0 e 8 (n=9 objetos segmentados)\n",
      " |        - center: centro=[x,y] de massa do objeto segmentado\n",
      " |        - matrix: matriz objetos e bounding boxes, em cada linha tem: [i x1 y1 x2 y2]\n",
      " |        - width: largura da imagem\n",
      " |        - height: altura da imagem\n",
      " |      output:\n",
      " |        - correct: conseguiu segmentar corretamente se retorno correct = 1\n",
      " |  \n",
      " |  ----------------------------------------------------------------------\n",
      " |  Static methods defined here:\n",
      " |  \n",
      " |  addm(f, g)\n",
      " |      This fuction will be add f by g\n",
      " |      input:\n",
      " |        - f: input image\n",
      " |        - g: input image\n",
      " |      output:\n",
      " |        - y: result of add\n",
      " |  \n",
      " |  areaopen(f, a)\n",
      " |      This function will be dilate g with minimum f, until converge\n",
      " |      input:\n",
      " |        - f: input image\n",
      " |        - a: area\n",
      " |        #- Bc: neighbors\n",
      " |      output:\n",
      " |        - y: result of areaopen\n",
      " |  \n",
      " |  asf(f, filter='OC', b=array([[0, 0, 0],\n",
      " |         [0, 0, 0],\n",
      " |         [0, 0, 0]], dtype=uint8), n=1)\n",
      " |      This function will create an alternating sequential filter\n",
      " |      input:\n",
      " |        - f: input image\n",
      " |        - b: structuring fuctions\n",
      " |        - n: number of iterations\n",
      " |        - filter: 'OC', 'CO', 'OCO', 'COC' [Default: 'OC']\n",
      " |      output:\n",
      " |        - y: result of filter\n",
      " |      ATENÇÃO:\n",
      " |  \n",
      " |  binary(f)\n",
      " |      This function checks whether the image is binary\n",
      " |      input:\n",
      " |       - f: input image\n",
      " |      output:\n",
      " |       - y: True if binary image\n",
      " |  \n",
      " |  cdil(f, g, b=array([[0, 0, 0],\n",
      " |         [0, 0, 0],\n",
      " |         [0, 0, 0]], dtype=uint8), n=1)\n",
      " |      This fuction will be dilate g with minimum f, n times\n",
      " |      input: \n",
      " |        - f: input image\n",
      " |        - g: mark image\n",
      " |        - b: neighbors\n",
      " |        - n: number of iterations\n",
      " |      output:\n",
      " |        - y: result of condictional dilations\n",
      " |  \n",
      " |  cero(f, g, b=array([[0, 0, 0],\n",
      " |         [0, 0, 0],\n",
      " |         [0, 0, 0]], dtype=uint8), n=1)\n",
      " |      This fuction will be erode g with maximum f, n times\n",
      " |      input:\n",
      " |        - f: input image\n",
      " |        - g: mark image\n",
      " |        - b: neighbors\n",
      " |        - n: number of iterations\n",
      " |      output:\n",
      " |        - y: result of condictional erodes\n",
      " |  \n",
      " |  clohole(f, b=array([[1, 1, 1],\n",
      " |         [1, 1, 1],\n",
      " |         [1, 1, 1]], dtype=uint8))\n",
      " |      This function will be close hole of image\n",
      " |      input:\n",
      " |        - f: input image\n",
      " |      output:\n",
      " |        - y: image\n",
      " |  \n",
      " |  close(f, b=array([[0, 0, 0],\n",
      " |         [0, 0, 0],\n",
      " |         [0, 0, 0]], dtype=uint8))\n",
      " |  \n",
      " |  closerec(f, b=array([[0, 0, 0],\n",
      " |         [0, 0, 0],\n",
      " |         [0, 0, 0]], dtype=uint8), bc=array([[0, 0, 0],\n",
      " |         [0, 0, 0],\n",
      " |         [0, 0, 0]], dtype=uint8))\n",
      " |      This function will be erode g with maximum f, until converge\n",
      " |      input:\n",
      " |        - f: input image\n",
      " |        - b: mark image\n",
      " |        - bc: neighbors\n",
      " |      output:\n",
      " |        - y: result of sup-reconstruction\n",
      " |  \n",
      " |  closerecth(f, b=array([[0, 0, 0],\n",
      " |         [0, 0, 0],\n",
      " |         [0, 0, 0]], dtype=uint8))\n",
      " |  \n",
      " |  closeth(f, b=array([[0, 0, 0],\n",
      " |         [0, 0, 0],\n",
      " |         [0, 0, 0]], dtype=uint8))\n",
      " |  \n",
      " |  color(img)\n",
      " |      Converts an image to RGB color space.\n",
      " |      input: <numpy.ndarray> Image in BGR, grayscale, or RGBA format.\n",
      " |      output: RGB image in <numpy.ndarray> format.\n",
      " |      Example:\n",
      " |      img     = mm.read('image.png')\n",
      " |      img_rgb = mm.color(img)\n",
      " |  \n",
      " |  correlacao0(F, kernel, bias)\n",
      " |      This function will create an correlation of f by b\n",
      " |      input:\n",
      " |      - f: input image\n",
      " |      - b: kernel\n",
      " |      output:\n",
      " |      - y: result of filter\n",
      " |  \n",
      " |  dil(f, Bc=array([[0, 0, 0],\n",
      " |         [0, 0, 0],\n",
      " |         [0, 0, 0]], dtype=uint8))\n",
      " |      This function will create an dilate of f by Bc\n",
      " |      input:\n",
      " |       - f: input image\n",
      " |       - Bc: structuring element\n",
      " |      output:\n",
      " |       - y: result of filter\n",
      " |  \n",
      " |  dil0(f, Bc=array([[0, 0, 0],\n",
      " |         [0, 0, 0],\n",
      " |         [0, 0, 0]], dtype=uint8))\n",
      " |      This function will create a dilate of f by Bc\n",
      " |      input:\n",
      " |       - f: input image\n",
      " |       - Bc: structuring element\n",
      " |      output:\n",
      " |       - y: result of filter\n",
      " |  \n",
      " |  dil1(f, b=array([[0, 0, 0],\n",
      " |         [0, 0, 0],\n",
      " |         [0, 0, 0]], dtype=uint8))\n",
      " |      This function will create a dilate of f by b\n",
      " |      input:\n",
      " |       - f: input image\n",
      " |       - b: structuring element\n",
      " |      output:\n",
      " |       - y: result of filter\n",
      " |  \n",
      " |  dist(f)\n",
      " |      This function will be calculate euclidean distance of each connect component\n",
      " |      input:\n",
      " |        - f: input image\n",
      " |      output:\n",
      " |        - y: image with op\n",
      " |  \n",
      " |  dist1(f, b)\n",
      " |      This function will be calculate distance by erosions\n",
      " |      input:\n",
      " |        - f: input image\n",
      " |      output:\n",
      " |        - y: image with op\n",
      " |  \n",
      " |  drawImage(f)\n",
      " |      Converts the input image f into a string representation suitable for printing.\n",
      " |      Args: f (ndarray): The input image.\n",
      " |      Returns: A string representing the input image.\n",
      " |      Example:\n",
      " |          string_representation = mm.drawImage(f)\n",
      " |          print(string_representation)\n",
      " |  \n",
      " |  drawImageKernel(f, B, x, y)\n",
      " |      This function will draw image f, considering a kernel\n",
      " |      input:\n",
      " |       - f: input image\n",
      " |       - B: kernel\n",
      " |       - x,y: center pixel of kernel\n",
      " |      output:\n",
      " |       - string: image drawing\n",
      " |  \n",
      " |  drawImagePlt(f)\n",
      " |      Displays the input image f using Matplotlib.\n",
      " |      Args: f (ndarray): The input image.\n",
      " |      Example: drawImagePlt(f)\n",
      " |  \n",
      " |  equalizacao(image)\n",
      " |      Função para retornar a imagem equalizada pelo valor máximo\n",
      " |      Sintaxe:\n",
      " |        imgEqu = equalizacao(image)\n",
      " |        input: image\n",
      " |        output imgEqu\n",
      " |  \n",
      " |  ero(f, Bc=array([[0, 0, 0],\n",
      " |         [0, 0, 0],\n",
      " |         [0, 0, 0]], dtype=uint8))\n",
      " |      This function will create an erosion of f by Bc\n",
      " |      input:\n",
      " |       - f: input image\n",
      " |       - Bc: structuring element\n",
      " |      output:\n",
      " |       - y: result of filter\n",
      " |  \n",
      " |  ero0(f, Bc=array([[0, 0, 0],\n",
      " |         [0, 0, 0],\n",
      " |         [0, 0, 0]], dtype=uint8))\n",
      " |      This function will create an erosion of f by Bc\n",
      " |      input:\n",
      " |       - f: input image\n",
      " |       - Bc: structuring element\n",
      " |      output:\n",
      " |       - y: result of filter\n",
      " |  \n",
      " |  ero1(f, b=array([[0, 0, 0],\n",
      " |         [0, 0, 0],\n",
      " |         [0, 0, 0]], dtype=uint8))\n",
      " |      This function will create an erosion of f by b\n",
      " |      input:\n",
      " |       - f: input image\n",
      " |       - b: structuring element\n",
      " |      output:\n",
      " |       - y: result of filter\n",
      " |  \n",
      " |  frame(f, border=5)\n",
      " |      This function will be return a frame of image\n",
      " |      input:\n",
      " |        - f: input image\n",
      " |        - border: default=5\n",
      " |      output:\n",
      " |        - y: image\n",
      " |  \n",
      " |  gdist(f, g, b=array([[1, 1, 1],\n",
      " |         [1, 1, 1],\n",
      " |         [1, 1, 1]], dtype=uint8))\n",
      " |      This function will be calculate geodesic distance with erode neg of g intersect f\n",
      " |      input:\n",
      " |        - f: input binary image with 0 and 1\n",
      " |        - g: marker - input binary image with 0 and 1\n",
      " |        - b: kernel\n",
      " |      output:\n",
      " |        - y: image with op\n",
      " |  \n",
      " |  gradm(f, b=array([[0, 0, 0],\n",
      " |         [0, 0, 0],\n",
      " |         [0, 0, 0]], dtype=uint8))\n",
      " |      This fuction will be dilate f by b minus erodel f by b\n",
      " |      input:\n",
      " |        - f: input image\n",
      " |        - b: neighbors\n",
      " |      output:\n",
      " |        - y: result of condictional dilations\n",
      " |  \n",
      " |  gray(img)\n",
      " |      Converts a color image to grayscale.\n",
      " |      input: <numpy.ndarray> Input color image.\n",
      " |      output: grayscale image.\n",
      " |      Examples:\n",
      " |      img = mm.read('image.png')\n",
      " |      img_gray = mm.gray(img)\n",
      " |  \n",
      " |  hist(img)\n",
      " |      Função para retornar o histograma\n",
      " |      Sintaxe:\n",
      " |        hist = hist(img)\n",
      " |        input: image\n",
      " |        output hist\n",
      " |  \n",
      " |  histPlus(img)\n",
      " |      Função para retornar o histograma e todos os pixels de cada cor\n",
      " |      Sintaxe:\n",
      " |        hist, dict = histPlus(img)\n",
      " |        input: image\n",
      " |        output hist e dict\n",
      " |  \n",
      " |  infrec(f, g, b=array([[0, 0, 0],\n",
      " |         [0, 0, 0],\n",
      " |         [0, 0, 0]], dtype=uint8))\n",
      " |      This function will be dilate g with minimum f, until converge\n",
      " |      input: \n",
      " |        - f: input image\n",
      " |        - g: mark image\n",
      " |        - b: neighbors\n",
      " |      output:\n",
      " |        - y: result of inf-reconstruction\n",
      " |  \n",
      " |  install(packages=['matplotlib', 'numpy', 'opencv-python'])\n",
      " |      This function will install the packages\n",
      " |      input: <packages> list of packages.\n",
      " |      Examples: mm.install(['matplotlib', 'scikit-image'])\n",
      " |  \n",
      " |  label(f)\n",
      " |      This function will be calculate label of each connect component\n",
      " |      input:\n",
      " |        - f: input image\n",
      " |      output:\n",
      " |        - y: image with op\n",
      " |  \n",
      " |  label0(f, b=array([[1, 1, 1],\n",
      " |         [1, 1, 1],\n",
      " |         [1, 1, 1]], dtype=uint8))\n",
      " |      This function will be calculate label of each connect component\n",
      " |      input:\n",
      " |        - f: input image\n",
      " |        - b: structure element\n",
      " |      output:\n",
      " |        - y: image with op\n",
      " |  \n",
      " |  lblshow(f, border=3)\n",
      " |      This function will draw image f with each component has a color\n",
      " |      input:\n",
      " |       - f: input image\n",
      " |       - border: border optional [defaul=2]\n",
      " |      output:\n",
      " |       - y: color image\n",
      " |  \n",
      " |  neg(f)\n",
      " |      This function will be return the inverting image\n",
      " |      input:\n",
      " |        - f: input image\n",
      " |      output:\n",
      " |        - y: image\n",
      " |  \n",
      " |  open(f, b=array([[0, 0, 0],\n",
      " |         [0, 0, 0],\n",
      " |         [0, 0, 0]], dtype=uint8))\n",
      " |  \n",
      " |  openth(f, b=array([[0, 0, 0],\n",
      " |         [0, 0, 0],\n",
      " |         [0, 0, 0]], dtype=uint8))\n",
      " |  \n",
      " |  openth1(f, b=array([[0, 0, 0],\n",
      " |         [0, 0, 0],\n",
      " |         [0, 0, 0]], dtype=uint8))\n",
      " |  \n",
      " |  randomImage(h, w, maxValue=9)\n",
      " |      Creates a random image of size h x w with integer values in [0,maxValue].\n",
      " |      input: size of image: height, width and max value\n",
      " |      output: image\n",
      " |      Example:\n",
      " |        mm.randomImage(3, 3, maxValue=5)\n",
      " |        The function will return a random NumPy array, such as:\n",
      " |        array([[2, 1, 3],\n",
      " |               [0, 4, 2],\n",
      " |               [5, 1, 5]], dtype=uint8)\n",
      " |  \n",
      " |  read(file)\n",
      " |      Reads an image from a local file path or URL.\n",
      " |      input: <str> File path or URL (full or 'id=keyGoogleDrive').\n",
      " |      output: the read image.\n",
      " |      Examples:\n",
      " |      img_local  = mm.read('image.png')\n",
      " |      img_url    = mm.read('https://example.com/image.jpg')\n",
      " |      img_gdrive = mm.read('id=keyGoogleDrive')\n",
      " |  \n",
      " |  readImg(h, w)\n",
      " |      This function reads an image from input and returns it as a NumPy array.\n",
      " |      input: size of image: height and width\n",
      " |      output: image\n",
      " |      Example:\n",
      " |        mm.readImg(3, 4)\n",
      " |        0 1 0 0\n",
      " |        1 1 1 1\n",
      " |        0 1 0 0\n",
      " |        The function will return the following NumPy array:\n",
      " |        array([[0, 1, 0, 0],\n",
      " |               [1, 1, 1, 1],\n",
      " |               [0, 1, 0, 0]])\n",
      " |  \n",
      " |  readImg2()\n",
      " |      This function reads an image of varying size from standard input.\n",
      " |      Example:\n",
      " |        mm.readImg2()\n",
      " |        255   0  255\n",
      " |        128  64  192\n",
      " |        0   192  128\n",
      " |  \n",
      " |  regmax(f, b=array([[1, 1, 1],\n",
      " |         [1, 1, 1],\n",
      " |         [1, 1, 1]], dtype=uint8))\n",
      " |      This function will be calculate region maximum\n",
      " |      input:\n",
      " |        - f: input image\n",
      " |        - b: neighbors\n",
      " |      output:\n",
      " |        - y: result of regmax\n",
      " |  \n",
      " |  regmin(f, b=array([[1, 1, 1],\n",
      " |         [1, 1, 1],\n",
      " |         [1, 1, 1]], dtype=uint8))\n",
      " |      This function will be calculate region minimum\n",
      " |      input:\n",
      " |        - f: input image\n",
      " |        - b: neighbors\n",
      " |      output:\n",
      " |        - y: result of regmax\n",
      " |  \n",
      " |  sebox(n=0)\n",
      " |      This function will be create a box structure function nB by Minkowski sum B\n",
      " |      input:\n",
      " |        - n: number of sum\n",
      " |      output:\n",
      " |        - y: result of Minkowski sum\n",
      " |  \n",
      " |  secross(n=0)\n",
      " |      This function will be create a cross structure function nB by Minkowski sum B\n",
      " |      input:\n",
      " |        - n: number of sum\n",
      " |      output:\n",
      " |        - y: result of Minkowski sum\n",
      " |  \n",
      " |  sedisk(n=3)\n",
      " |      This function will be create a disk structure function\n",
      " |      input:\n",
      " |        - n: number of sum\n",
      " |      output:\n",
      " |        - y: result of disk\n",
      " |  \n",
      " |  sesum(b, n=0)\n",
      " |      This function will be create a structure function nB by Minkowski sum B\n",
      " |      input:\n",
      " |        - b: structure fuction\n",
      " |        - n: number of sum\n",
      " |      output:\n",
      " |        - y: result of Minkowski sum\n",
      " |  \n",
      " |  show(*args)\n",
      " |      This function will draw images f\n",
      " |      input: <*args> set of images f_i, where i>0 is binary image\n",
      " |      output: image drawing\n",
      " |      Example:\n",
      " |      f1, f2 = np.zeros((100, 100,3)),  np.zeros((100, 100))\n",
      " |      f2[50:60, 50:60] = 1\n",
      " |      mm.show(f1, f2)\n",
      " |  \n",
      " |  subm(f, g)\n",
      " |      This fuction will be subtract f by g\n",
      " |      input:\n",
      " |        - f: input image\n",
      " |        - g: input image\n",
      " |      output:\n",
      " |        - y: result of subtraction\n",
      " |  \n",
      " |  suprec(f, g, b=array([[0, 0, 0],\n",
      " |         [0, 0, 0],\n",
      " |         [0, 0, 0]], dtype=uint8))\n",
      " |      This function will be erode g with maximum f, until converge\n",
      " |      input:\n",
      " |        - f: input image\n",
      " |        - g: mark image\n",
      " |        - b: neighbors\n",
      " |      output:\n",
      " |        - y: result of sup-reconstruction\n",
      " |  \n",
      " |  thin(f)\n",
      " |      This function will be calculate the skeleton of image\n",
      " |      input:\n",
      " |        - f: input image\n",
      " |      output:\n",
      " |        - y: image with skeleton\n",
      " |  \n",
      " |  threshold(img, limiar=0)\n",
      " |      Thresholds an input image by a threshold value or using Otsu's method.\n",
      " |      input: <numpy.ndarray> Input image to be thresholded.\n",
      " |      output: <numpy.ndarray> Thresholded image.\n",
      " |      Examples:\n",
      " |      img = mm.read('image.png')\n",
      " |      th = mm.threshold(img)\n",
      " |  \n",
      " |  toggle(f, f1, f2, op='gray')\n",
      " |      This function will be calculate label of each connect component\n",
      " |      input:\n",
      " |        - f: input image\n",
      " |        - f1: input image\n",
      " |        - f2: input image\n",
      " |        - op: input image\n",
      " |      output:\n",
      " |        - y: image with op\n",
      " |  \n",
      " |  union(f, g)\n",
      " |      This fuction will be union f by g\n",
      " |      input:\n",
      " |        - f: input image\n",
      " |        - g: input image\n",
      " |      output:\n",
      " |        - y: result of add\n",
      " |  \n",
      " |  water0(f, b=array([[0, 0, 0],\n",
      " |         [0, 0, 0],\n",
      " |         [0, 0, 0]], dtype=uint8), op='region')\n",
      " |      This function will create the watershed\n",
      " |      input:\n",
      " |        - f: input binary image\n",
      " |        - op: regions of watershed\n",
      " |      \n",
      " |      output:\n",
      " |        - y: watershed\n",
      " |  \n",
      " |  waterB(f, m, b=array([[0, 0, 0],\n",
      " |         [0, 0, 0],\n",
      " |         [0, 0, 0]], dtype=uint8), op='region')\n",
      " |      This function will create the watershed, process only border pixel of each object\n",
      " |      input:\n",
      " |        - f: input binary image\n",
      " |        - op: regions of watershed\n",
      " |      \n",
      " |      output:\n",
      " |        - y: watershed\n",
      " |  \n",
      " |  watershed(f, mark, op='region')\n",
      " |      This function will create the watershed\n",
      " |      input:\n",
      " |        - f: input image\n",
      " |          - f==[] # binary watershed by skimage\n",
      " |          - else  # condictional watershed by cv2\n",
      " |        - mark: markers image\n",
      " |        - op: region or line [default: region]\n",
      " |      \n",
      " |      output:\n",
      " |        - y: watershed\n",
      " |  \n",
      " |  ----------------------------------------------------------------------\n",
      " |  Data descriptors defined here:\n",
      " |  \n",
      " |  __dict__\n",
      " |      dictionary for instance variables (if defined)\n",
      " |  \n",
      " |  __weakref__\n",
      " |      list of weak references to the object (if defined)\n",
      " |  \n",
      " |  ----------------------------------------------------------------------\n",
      " |  Data and other attributes defined here:\n",
      " |  \n",
      " |  IN_COLAB = True\n",
      " |  \n",
      " |  count_Images = 0\n",
      "\n"
     ]
    }
   ],
   "source": [
    "help(mm)"
   ],
   "metadata": {
    "colab": {
     "base_uri": "https://localhost:8080/"
    },
    "id": "SdVhfZzfDflA",
    "executionInfo": {
     "status": "ok",
     "timestamp": 1727433524462,
     "user_tz": 180,
     "elapsed": 316,
     "user": {
      "displayName": "Francisco Zampirolli",
      "userId": "00555800858524994547"
     }
    },
    "outputId": "26f25009-22b6-4f05-c4c0-4e21d220d789"
   }
  },
  {
   "cell_type": "code",
   "execution_count": 11,
   "outputs": [
    {
     "output_type": "stream",
     "name": "stdout",
     "text": [
      "Help on function ero in module morph:\n",
      "\n",
      "ero(f, Bc=array([[0, 0, 0],\n",
      "       [0, 0, 0],\n",
      "       [0, 0, 0]], dtype=uint8))\n",
      "    This function will create an erosion of f by Bc\n",
      "    input:\n",
      "     - f: input image\n",
      "     - Bc: structuring element\n",
      "    output:\n",
      "     - y: result of filter\n",
      "\n"
     ]
    }
   ],
   "source": [
    "help(mm.ero)"
   ],
   "metadata": {
    "colab": {
     "base_uri": "https://localhost:8080/"
    },
    "id": "f0DTcdVHDflB",
    "executionInfo": {
     "status": "ok",
     "timestamp": 1727433531400,
     "user_tz": 180,
     "elapsed": 280,
     "user": {
      "displayName": "Francisco Zampirolli",
      "userId": "00555800858524994547"
     }
    },
    "outputId": "e9656114-cc6e-436a-fe08-cbde96378920"
   }
  },
  {
   "cell_type": "code",
   "execution_count": 12,
   "outputs": [
    {
     "output_type": "stream",
     "name": "stdout",
     "text": [
      "[[0 7 3 2 0 5 9 0 9 5]\n",
      " [1 1 7 7 3 5 1 4 7 7]\n",
      " [3 0 9 7 3 9 2 9 4 4]\n",
      " [5 1 4 7 7 5 4 1 4 5]\n",
      " [7 8 6 8 7 3 0 7 8 7]]\n"
     ]
    }
   ],
   "source": [
    "import numpy as np\n",
    "f = np.random.random((5, 10))*10\n",
    "f = f.astype(int)\n",
    "print(f)"
   ],
   "metadata": {
    "colab": {
     "base_uri": "https://localhost:8080/"
    },
    "id": "3rrIY0TLDflB",
    "executionInfo": {
     "status": "ok",
     "timestamp": 1727433534356,
     "user_tz": 180,
     "elapsed": 307,
     "user": {
      "displayName": "Francisco Zampirolli",
      "userId": "00555800858524994547"
     }
    },
    "outputId": "390a488d-4905-4944-f8d7-dcbb5653f2ad"
   }
  },
  {
   "cell_type": "code",
   "execution_count": 13,
   "outputs": [
    {
     "output_type": "stream",
     "name": "stdout",
     "text": [
      "[[1 1 1]\n",
      " [0 1 0]\n",
      " [0 0 0]]\n"
     ]
    }
   ],
   "source": [
    "B = np.array([[1,1,1],[0,1,0],[0,0,0]])\n",
    "B=np.array(B).astype('int8')\n",
    "print(B)"
   ],
   "metadata": {
    "colab": {
     "base_uri": "https://localhost:8080/"
    },
    "id": "vpHW85vXDflB",
    "executionInfo": {
     "status": "ok",
     "timestamp": 1727433536947,
     "user_tz": 180,
     "elapsed": 246,
     "user": {
      "displayName": "Francisco Zampirolli",
      "userId": "00555800858524994547"
     }
    },
    "outputId": "ec8da38f-a9fb-4551-d67b-c98196479a3e"
   }
  },
  {
   "cell_type": "code",
   "execution_count": 14,
   "outputs": [
    {
     "output_type": "stream",
     "name": "stdout",
     "text": [
      "[[0 0 0 0 0 0 0 0 0 0]\n",
      " [0 0 2 0 0 0 0 0 0 0]\n",
      " [0 0 1 3 3 1 1 1 4 0]\n",
      " [0 0 0 3 3 2 2 1 4 0]\n",
      " [0 0 0 0 0 0 0 0 0 0]]\n"
     ]
    }
   ],
   "source": [
    "g=mm.ero0(f,B)\n",
    "g[:, [0, -1]] = g[[0, -1], :] = 0 # zero in border\n",
    "print(g)"
   ],
   "metadata": {
    "colab": {
     "base_uri": "https://localhost:8080/"
    },
    "id": "G8DK-pJMDflC",
    "executionInfo": {
     "status": "ok",
     "timestamp": 1727433540119,
     "user_tz": 180,
     "elapsed": 264,
     "user": {
      "displayName": "Francisco Zampirolli",
      "userId": "00555800858524994547"
     }
    },
    "outputId": "9a9df7aa-d2f3-4e67-fac5-1e0b0975eeac"
   }
  },
  {
   "cell_type": "markdown",
   "source": [
    "Note that it is necessary to change the code `ero0` to return the same result as Figure 14 in the paper"
   ],
   "metadata": {
    "collapsed": false,
    "id": "S81Yyqm6DflC"
   }
  },
  {
   "cell_type": "code",
   "source": [
    "# download morph.py from GitHub\n",
    "# !wget https://raw.githubusercontent.com/fzampirolli/morph/main/morph.py\n",
    "\n",
    "from morph import *\n",
    "mm.install()\n",
    "img = mm.read('https://www.dropbox.com/s/ekjbzp14jt90bfq/00004.jpg?dl=1')\n",
    "img = img[25:120,30:285] # cropping the image - Figure 2-(a)\n",
    "th = mm.threshold(mm.gray(img),30)\n",
    "mm.show(img, th-mm.ero(th, np.ones((7,7), dtype='uint8'))) # Figure 2-(b)"
   ],
   "metadata": {
    "colab": {
     "base_uri": "https://localhost:8080/",
     "height": 250
    },
    "id": "kmHXmsEwEqBQ",
    "executionInfo": {
     "status": "ok",
     "timestamp": 1727433767435,
     "user_tz": 180,
     "elapsed": 11560,
     "user": {
      "displayName": "Francisco Zampirolli",
      "userId": "00555800858524994547"
     }
    },
    "outputId": "a5f0a947-caee-40d7-9d1e-36a7d04f6d35"
   },
   "execution_count": 15,
   "outputs": [
    {
     "output_type": "display_data",
     "data": {
      "text/plain": [
       "<Figure size 640x480 with 1 Axes>"
      ],
      "image/png": "[encoded data removed]"
     },
     "metadata": {}
    }
   ]
  }
 ],
 "metadata": {
  "colab": {
   "provenance": []
  },
  "kernelspec": {
   "display_name": "Python 3",
   "language": "python",
   "name": "python3"
  },
  "language_info": {
   "codemirror_mode": {
    "name": "ipython",
    "version": 3
   },
   "file_extension": ".py",
   "mimetype": "text/x-python",
   "name": "python",
   "nbconvert_exporter": "python",
   "pygments_lexer": "ipython3",
   "version": "3.8.18"
  }
 },
 "nbformat": 4,
 "nbformat_minor": 0
}
