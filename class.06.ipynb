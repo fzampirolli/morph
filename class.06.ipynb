{
 "nbformat": 4,
 "nbformat_minor": 0,
 "metadata": {
  "colab": {
   "provenance": []
  },
  "kernelspec": {
   "display_name": "Python 3",
   "language": "python",
   "name": "python3"
  },
  "language_info": {
   "codemirror_mode": {
    "name": "ipython",
    "version": 3
   },
   "file_extension": ".py",
   "mimetype": "text/x-python",
   "name": "python",
   "nbconvert_exporter": "python",
   "pygments_lexer": "ipython3",
   "version": "3.7.4"
  }
 },
 "cells": [
  {
   "cell_type": "markdown",
   "metadata": {
    "id": "d6Ed-dPUY2zt"
   },
   "source": [
    "\n",
    "# Ciência da Computação\n",
    "\n",
    "## Processamento Digital de Imagens - PDI - 2023.1\n",
    "## Visão Computacional e Processamento Imagens - VCPI - 2022.1\n",
    "### Prof. Francisco Zampirolli\n",
    "\n",
    "\n"
   ]
  },
  {
   "cell_type": "markdown",
   "source": [
    "## Vídeos antigos\n",
    "\n",
    "* [Adesso-parte0 (20min)](https://www.loom.com/share/70794406c9434a70b9e8ff3ec7ef1599)\n",
    "* [Adesso1-mm-1-7 (86min)](https://www.loom.com/share/92fbb710f02646c59d45c4e8fcfbc469)\n",
    "* [Adesso2-mmd-1-8 (76min)](https://www.loom.com/share/a8373d5d902a4317820c8c7ef31d5524)\n",
    "* [Adesso3-mmd-9-17 (76min)](https://www.loom.com/share/2da4f118c66547cdb4000f5206bfb7d7)\n",
    "* [Adesso4-mmd-18-27 (54min)](https://www.loom.com/share/5186fcc96309454e8e0ff90360825589)\n"
   ],
   "metadata": {
    "id": "H1tcu5uJaDkc"
   }
  },
  {
   "cell_type": "markdown",
   "metadata": {
    "id": "vUDZ4VsySTeJ"
   },
   "source": [
    "# Adesso"
   ]
  },
  {
   "cell_type": "markdown",
   "metadata": {
    "id": "B2y3KytHaZVL"
   },
   "source": [
    "1. https://www.dca.fee.unicamp.br/~rubens/adesso/index.html\n",
    "\n",
    "2. https://www.dca.fee.unicamp.br/~rubens/adesso/Adesso2000/Adesso2000_pp4_final.pdf\n",
    "\n",
    "3. [livro](https://www.amazon.com.br/Hands-Morphological-Processing-Edward-Dougherty/dp/081944720X)\n",
    "\n",
    "4. https://github.com/robertoalotufo/ia870\n",
    "\n",
    "5. ver pasta [Adesso](https://drive.google.com/drive/folders/1GVEAptj_mU9fA-ff-KDBLBkvBV5giEKW?usp=sharing)\n",
    "\n",
    "6. ftp://ftp.dca.fee.unicamp.br/pub/cik/morph/morph_doc0.14.pdf\n",
    "\n",
    "7. https://www.researchgate.net/publication/3922632_Toolbox_of_image_processing_for_numerical_Python\n",
    "\n",
    "---\n",
    "\n",
    "8. https://pythonhosted.org/pymorph/\n"
   ]
  },
  {
   "cell_type": "code",
   "metadata": {
    "id": "sJ-M2t1ZDYDC",
    "executionInfo": {
     "status": "ok",
     "timestamp": 1683581168998,
     "user_tz": 180,
     "elapsed": 864,
     "user": {
      "displayName": "Francisco Zampirolli",
      "userId": "00555800858524994547"
     }
    }
   },
   "source": [
    "import matplotlib.pyplot as plt\n",
    "import numpy as np\n",
    "from PIL import Image\n",
    "import cv2"
   ],
   "execution_count": 1,
   "outputs": []
  },
  {
   "cell_type": "code",
   "source": [
    "# download _morph.py from drive\n",
    "!pip install -U --no-cache-dir gdown --pre\n",
    "!gdown --id 1FlMtAkb0npwmD54aCysLsxB84PehcKMe\n",
    "# https://drive.google.com/file/d/1FlMtAkb0npwmD54aCysLsxB84PehcKMe/view?usp=share_link"
   ],
   "metadata": {
    "id": "8If8Sskp4bUi"
   },
   "execution_count": null,
   "outputs": []
  },
  {
   "cell_type": "code",
   "source": [
    "from _morph import *"
   ],
   "metadata": {
    "id": "-dRdQP_qhZ3C",
    "executionInfo": {
     "status": "ok",
     "timestamp": 1683581196578,
     "user_tz": 180,
     "elapsed": 3,
     "user": {
      "displayName": "Francisco Zampirolli",
      "userId": "00555800858524994547"
     }
    }
   },
   "execution_count": 3,
   "outputs": []
  },
  {
   "cell_type": "code",
   "source": [
    "mm.install(['opencv-python'])"
   ],
   "metadata": {
    "id": "saniDsWIQmiG",
    "executionInfo": {
     "status": "ok",
     "timestamp": 1683581368227,
     "user_tz": 180,
     "elapsed": 4619,
     "user": {
      "displayName": "Francisco Zampirolli",
      "userId": "00555800858524994547"
     }
    }
   },
   "execution_count": 6,
   "outputs": []
  },
  {
   "cell_type": "code",
   "metadata": {
    "colab": {
     "base_uri": "https://localhost:8080/"
    },
    "id": "sLe8UcyfSbG6",
    "executionInfo": {
     "status": "ok",
     "timestamp": 1683581373578,
     "user_tz": 180,
     "elapsed": 3,
     "user": {
      "displayName": "Francisco Zampirolli",
      "userId": "00555800858524994547"
     }
    },
    "outputId": "3cc30d03-3480-45d8-9c4e-329f31f09678"
   },
   "source": [
    "print(cv2.__version__)"
   ],
   "execution_count": 7,
   "outputs": [
    {
     "output_type": "stream",
     "name": "stdout",
     "text": [
      "4.7.0\n"
     ]
    }
   ]
  },
  {
   "cell_type": "markdown",
   "metadata": {
    "id": "BCg4SyBT1ddD"
   },
   "source": [
    "# Biblioteca em desenvolvimento"
   ]
  },
  {
   "cell_type": "markdown",
   "metadata": {
    "id": "JaGxNqwb1jVB"
   },
   "source": [
    "- Sugestões de melhorias são bem vindas\n",
    "- Padronizar funções\n",
    "- Padronizar documentações\n",
    "- Padronizar exemplos\n",
    "- Arquivo: [_morph.py](https://drive.google.com/drive/u/0/folders/1n9aE40BxF008nuD6syis8GHA44Lalnl4)"
   ]
  },
  {
   "cell_type": "markdown",
   "metadata": {
    "id": "C8Xh92nVSTe-"
   },
   "source": [
    "# Funções adaptadas com colab"
   ]
  },
  {
   "cell_type": "markdown",
   "metadata": {
    "id": "arm0COUhz3Cl"
   },
   "source": [
    "\n",
    "\n",
    "1. [mmsesum](https://colab.research.google.com/drive/1e8owP09MNoKyQm-6WJZQ_FscAkVsVrZi)\n",
    "2. [mmasf](https://colab.research.google.com/drive/1hOcW1Hl-LKEYD3zBw4axyYPRa1xwMzBJ)\n",
    "3. [mmcdil](https://colab.research.google.com/drive/12EgR2r9kZUy_hjrGwNUp4ud5M4Bea1ty)\n",
    "4. [mminfrec](https://colab.research.google.com/drive/1fQjTtvMiH6BPipK9pEWOyZ3J1hb6LNQN)\n",
    "5. [mmareaopen](https://colab.research.google.com/drive/1_b9zdzGhObdd18R6Kt760PqpbmLGLkFm)\n",
    "6. [mmwatershed](https://colab.research.google.com/drive/1Ep6AlNQ5zBLtgfzeZHIFcR-gsMZOL58p)\n",
    "7. [mmgdist](https://colab.research.google.com/drive/1LBmIDKPnYaaNpjL_flPCyyT3EtyIPYiq)\n",
    "8. [mmskelm](https://colab.research.google.com/drive/1mUOp7YGNufBWwxlLPYFpCsT9eQyRcjcC)\n"
   ]
  },
  {
   "cell_type": "markdown",
   "metadata": {
    "id": "necIVYSczyxb"
   },
   "source": [
    "# Demonstrações adaptadas com colab"
   ]
  },
  {
   "cell_type": "markdown",
   "metadata": {
    "id": "0SEz-TyH20dG"
   },
   "source": [
    "\n",
    "\n",
    "- [01.mmdbeef](https://colab.research.google.com/drive/1ezBwmnP2AFagKf_R_t-gqY7lBK75Y-zD)\n",
    "- [02.mmdairport](https://colab.research.google.com/drive/1yz8hj2WJKHJrxQA9qb1hiIk__g3vLRdT)\n",
    "- [03.mmdarea](https://colab.research.google.com/drive/1XceaLUyu9_XcUSYZUQ30rGi9gJJFIR7m)\n",
    "- [04.mmdasp](https://colab.research.google.com/drive/1mNJdd0JHfdpnnd6CQ-qcr7FffIiYBox4)\n",
    "- [05.mmdlabeltext](https://colab.research.google.com/drive/1rc42L6QtZJTWI_TgskVWjiW1QXH2cWaV#scrollTo=sJ-M2t1ZDYDC)\n",
    "- [06.mmdblob](https://colab.research.google.com/drive/1gCqde5aFI4azl9ogHemPS_mp8ibavcsN)\n",
    "- [07.mmdbrain](https://colab.research.google.com/drive/1IseOx06dugt9PY5wZCU3ON7ibYBMRt_r)\n",
    "- [08.mmdcalc](https://colab.research.google.com/drive/19lV-XiJ8sWBUxVksDbw5cXUIItI6EVod#scrollTo=sJ-M2t1ZDYDC)\n",
    "- [09.mmdcells](https://colab.research.google.com/drive/1XHVNmbzhBa5zlmgbHtfPGTT3plo0NzzA) - incompleto\n",
    "- [10.mmdchickparts](https://colab.research.google.com/drive/1BgGnJgDdLOOpKsY_07w4dn_OONSr-otV)\n",
    "- [11.mmdconcrete](https://colab.research.google.com/drive/1yWwCMmT2NhLv5_uBWkQWKa6qbpXnk0xG) - incompleto\n",
    "- [12.mmdcookies](https://colab.research.google.com/drive/1rtnSuc0HSbW1askZj25CDZQUcf9s0u-7)\n",
    "- [13.mmdcornea](https://colab.research.google.com/drive/1cRscepu1j9_ejzZwVvYwbl2aWUTVhdfG) - incompleto\n",
    "- [14.mmdfabric](https://colab.research.google.com/drive/1t50p8NbUV6VKygn-zrWHmL-wyjXVTVXA) - incompleto\n",
    "- [15.mmdfila](https://colab.research.google.com/drive/18iP_cMXS2aAuIfVAR6YLK3r8ICEehTXy) - incompleto\n",
    "- [16.mmdflatzone](https://colab.research.google.com/drive/1d3ED2CbsZq8PLiwqvGvhdfUQ6c-hSm4U) - incompleto\n",
    "- [17.mmdflow](https://colab.research.google.com/drive/178xKw6uoSnVDIaAysnRWLMp24k6FPBJb#scrollTo=Gp-cc6kDlTd1)\n",
    "- [18.mmdgear](https://colab.research.google.com/drive/1YXnhJ8sVOAYrTbzg2hKrwQIXSq4wfSdK)\n",
    "- [19.mmdholecenter](https://colab.research.google.com/drive/1D_Nc0O9H6H7mCKp6A5KlF7_TAKSNeN_a) - incompleto\n",
    "- [20.mmdleaf](https://colab.research.google.com/drive/1Pcg_GhE5uf6_mC9bl6ac7pMZZOHjdlMY)\n",
    "- [21.mmdlith](https://colab.research.google.com/drive/1QBtGYey2NMQptg8oTcUIsrHmTD9cO2Hu)\n",
    "- [22.mmdpcb](https://colab.research.google.com/drive/1575YaXJ1UgOb2PxAeyj0sJAkwr3a84a3)\n",
    "- [23.mmdpieces](https://colab.research.google.com/drive/1z9N_Rl1fLiw9aZOkwTFxcRPWhytHBENV#scrollTo=sJ-M2t1ZDYDC) - incompleto\n",
    "- [24.mmdpotatoes](https://colab.research.google.com/drive/1kGL4_kodgW6BueyoZaJiYePfAbY3bOqJ) - incompleto\n",
    "- [25.mmdrobotop](https://colab.research.google.com/drive/1nwd5d8xixlEhOBZADTyTfMWp4m4tTHfQ)\n",
    "- [26.mmdruler](https://colab.research.google.com/drive/1qx4QkYt6yXgkNxoaL83ArKqsrZnrGKD-)\n",
    "- [27.mmdsoil](https://colab.research.google.com/drive/19ccfyKGOPPwlqK3YZD8TcWopB40N0hHn) - incompleto\n"
   ]
  },
  {
   "cell_type": "code",
   "metadata": {
    "id": "S-YZnPD4z2Sk"
   },
   "source": [],
   "execution_count": null,
   "outputs": []
  }
 ]
}
