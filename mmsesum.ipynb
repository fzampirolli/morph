{
 "nbformat": 4,
 "nbformat_minor": 0,
 "metadata": {
  "colab": {
   "private_outputs": true,
   "provenance": []
  },
  "kernelspec": {
   "display_name": "Python 3",
   "language": "python",
   "name": "python3"
  },
  "language_info": {
   "codemirror_mode": {
    "name": "ipython",
    "version": 3
   },
   "file_extension": ".py",
   "mimetype": "text/x-python",
   "name": "python",
   "nbconvert_exporter": "python",
   "pygments_lexer": "ipython3",
   "version": "3.6.8"
  }
 },
 "cells": [
  {
   "cell_type": "markdown",
   "metadata": {
    "id": "vUDZ4VsySTeJ"
   },
   "source": [
    "# Adesso adaptado no Colab"
   ]
  },
  {
   "cell_type": "markdown",
   "source": [
    "## Vídeos antigos\n",
    "* [Adesso1-mm-1-7 (86min)](https://www.loom.com/share/92fbb710f02646c59d45c4e8fcfbc469) após 8min"
   ],
   "metadata": {
    "id": "dt1_3Y0yMxQH"
   }
  },
  {
   "cell_type": "code",
   "metadata": {
    "id": "sJ-M2t1ZDYDC"
   },
   "source": [
    "import matplotlib.pyplot as plt\n",
    "from PIL import Image\n",
    "import cv2, requests, sys\n",
    "import numpy as np"
   ],
   "execution_count": null,
   "outputs": []
  },
  {
   "cell_type": "code",
   "source": [
    "# download _morph.py from drive\n",
    "!pip install -U --no-cache-dir gdown --pre\n",
    "!gdown --id 1FlMtAkb0npwmD54aCysLsxB84PehcKMe"
   ],
   "metadata": {
    "id": "KlpHxGtB-Pq_"
   },
   "execution_count": null,
   "outputs": []
  },
  {
   "cell_type": "code",
   "source": [
    "from _morph import *\n",
    "help(mm.sesum)"
   ],
   "metadata": {
    "id": "-dRdQP_qhZ3C"
   },
   "execution_count": null,
   "outputs": []
  },
  {
   "cell_type": "markdown",
   "metadata": {
    "id": "62PHaSsq2d2E"
   },
   "source": [
    "# mmsesum"
   ]
  },
  {
   "cell_type": "markdown",
   "metadata": {
    "id": "hx1Nf-pI2u4g"
   },
   "source": [
    "Cria um elemento estruturante $nB$ pela **soma de Minkowski** de $b$, definido por:"
   ]
  },
  {
   "cell_type": "markdown",
   "metadata": {
    "id": "MmSItcHeLxpC"
   },
   "source": [
    "$$nb = \\underbrace{((b \\oplus b) \\oplus \\cdots \\oplus b)}_{n}; \\ \\ \\ n \\geq 0$$\n",
    "\n",
    "Considere $0b = b = sesum(b,0)$ é a identidade e $1b = b \\oplus b =sesum(b,1)$.\n",
    "\n",
    "**Observação:**  A vizinhança $b$ tem dimensões ímpares e a origem é o centro. Utilizar ```cv2.*```."
   ]
  },
  {
   "cell_type": "code",
   "metadata": {
    "id": "AE6AuttI8fLq"
   },
   "source": [
    "import cv2\n",
    "b = mm.secross(0)\n",
    "nb = b.copy()\n",
    "mm.sesum(b,1)\n",
    "print(f'b = \\n{mm.drawImage(b)}')\n",
    "for i in range(9):\n",
    "  print(f'{i}b = \\n{mm.drawImage(mm.sesum(b,i))}')\n"
   ],
   "execution_count": null,
   "outputs": []
  },
  {
   "cell_type": "code",
   "metadata": {
    "id": "0t9-3qivOYaJ"
   },
   "source": [
    "mm.drawImagePlt(mm.sesum(b,2))"
   ],
   "execution_count": null,
   "outputs": []
  },
  {
   "cell_type": "code",
   "metadata": {
    "id": "E30mN2zUQt_N"
   },
   "source": [
    "c = mm.sesum(b,7)\n",
    "print(mm.drawImage(c))"
   ],
   "execution_count": null,
   "outputs": []
  },
  {
   "cell_type": "code",
   "metadata": {
    "id": "lhnSomgu2_QD"
   },
   "source": [
    "b = mm.randomImage(3,3,1)\n",
    "print(mm.drawImage(b))"
   ],
   "execution_count": null,
   "outputs": []
  },
  {
   "cell_type": "code",
   "metadata": {
    "id": "NLZLz6h1QAPO"
   },
   "source": [
    "print(mm.drawImage(mm.sesum(b,9)))"
   ],
   "execution_count": null,
   "outputs": []
  },
  {
   "cell_type": "code",
   "metadata": {
    "id": "1C3uF3LJdFkZ"
   },
   "source": [
    "f = mm.sesum(b,4)\n",
    "print(mm.drawImage(b))\n",
    "print(mm.drawImage(f))\n",
    "g = mm.dil0(f,b)\n",
    "#print(type(mm.sesum(b,9)))\n",
    "print(mm.drawImage(g))"
   ],
   "execution_count": null,
   "outputs": []
  },
  {
   "cell_type": "code",
   "metadata": {
    "id": "bEZOeSabl7jc"
   },
   "source": [
    "f = mm.sesum(b,4)\n",
    "b0 = np.ones((3,3),dtype='uint8')*-1\n",
    "b0[1,1] = 0\n",
    "print(mm.drawImage(b0))\n",
    "print(mm.drawImage(f*9))\n",
    "g =  mm.ero1(mm.ero1(mm.ero1(mm.ero1(mm.ero1(mm.ero1(f*9,b0),b0),b0),b0),b0),b0)\n",
    "print(mm.drawImage(g))\n",
    "print(mm.drawImagePlt(g))"
   ],
   "execution_count": null,
   "outputs": []
  },
  {
   "cell_type": "code",
   "metadata": {
    "id": "bQ41axpIpt1j"
   },
   "source": [
    "print(mm.drawImage(mm.sebox()))\n",
    "print(mm.drawImage(mm.secross()))\n",
    "print(mm.drawImage(mm.secross(1)))\n",
    "bb = cv2.getStructuringElement(cv2.MORPH_CROSS,(11,11))\n",
    "print(mm.drawImage(bb))\n",
    "print(mm.drawImage(mm.secross(17)))"
   ],
   "execution_count": null,
   "outputs": []
  },
  {
   "cell_type": "code",
   "source": [],
   "metadata": {
    "id": "0P0UiHDxO2M4"
   },
   "execution_count": null,
   "outputs": []
  }
 ]
}
